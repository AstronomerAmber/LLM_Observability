{
  "nbformat": 4,
  "nbformat_minor": 0,
  "metadata": {
    "colab": {
      "provenance": []
    },
    "kernelspec": {
      "name": "python3",
      "display_name": "Python 3"
    },
    "language_info": {
      "name": "python"
    }
  },
  "cells": [
    {
      "cell_type": "code",
      "source": [
        "#Install and Import Required Modules,  LLMs and Agent Tools\n",
        "!pip -q install langchain huggingface_hub openai google-search-results"
      ],
      "metadata": {
        "id": "C36YPg6id9mq"
      },
      "execution_count": 4,
      "outputs": []
    },
    {
      "cell_type": "markdown",
      "source": [
        "import os\n",
        "\n",
        "os.environ[\"OPENAI_API_KEY\"] = \"\"  # https://platform.openai.com\n",
        "\n",
        "os.environ['SERPAPI_API_KEY'] = \"\" # https://serpapi.com/"
      ],
      "metadata": {
        "id": "LhIpaFnnxh96"
      }
    },
    {
      "cell_type": "code",
      "source": [
        "# @title\n",
        "import os\n",
        "\n",
        "os.environ[\"OPENAI_API_KEY\"] = \"\"  # https://platform.openai.com\n",
        "os.environ['SERPAPI_API_KEY'] = \"\" # https://serpapi.com/"
      ],
      "metadata": {
        "id": "42fJqSHrd2uM"
      },
      "execution_count": 5,
      "outputs": []
    },
    {
      "cell_type": "markdown",
      "source": [
        "#Out of the box agent\n",
        "## LangChain Zero-Shot ReAct Agent\n"
      ],
      "metadata": {
        "id": "TaIso6YJdTfl"
      }
    },
    {
      "cell_type": "code",
      "source": [
        "# import libraries\n",
        "\n",
        "from langchain.agents import load_tools\n",
        "from langchain.agents import initialize_agent\n",
        "from langchain.agents import AgentType\n",
        "from langchain.llms import OpenAI"
      ],
      "metadata": {
        "id": "ip3UtvRxdmnH"
      },
      "execution_count": 6,
      "outputs": []
    },
    {
      "cell_type": "markdown",
      "source": [
        "Now we can configure the LLM, the tools we will use, and the agent that allows us to leverage the ReAct framework together with the LLM and tools. Note that we are using a search API for searching external information and LLM as a math tool.\n",
        "\n"
      ],
      "metadata": {
        "id": "X6WIAupIddFA"
      }
    },
    {
      "cell_type": "code",
      "source": [
        "llm = OpenAI(temperature=0) # First, let's load the language model we're going to use to control the agent."
      ],
      "metadata": {
        "id": "K2fD8C2TdQI2"
      },
      "execution_count": 8,
      "outputs": []
    },
    {
      "cell_type": "code",
      "source": [
        "tools = load_tools([\"serpapi\"], llm=llm) #Next, let's load some tools to use."
      ],
      "metadata": {
        "id": "lyhEwtk-e54g"
      },
      "execution_count": 9,
      "outputs": []
    },
    {
      "cell_type": "code",
      "source": [
        "agent = initialize_agent(tools, llm, agent=AgentType.ZERO_SHOT_REACT_DESCRIPTION, verbose=True) #Finally, let's initialize an agent with the tools, the language model, and the type of agent we want to use."
      ],
      "metadata": {
        "id": "7MhdHI62fDrS"
      },
      "execution_count": 10,
      "outputs": []
    },
    {
      "cell_type": "markdown",
      "source": [
        "Once that's configured, we can now run the agent with the desired query/prompt."
      ],
      "metadata": {
        "id": "gMEGTi-MdfHC"
      }
    },
    {
      "cell_type": "code",
      "source": [
        "agent.run(\"Who is Olivia Wilde's boyfriend? What is his current age raised to the 0.23 power?\")\n"
      ],
      "metadata": {
        "colab": {
          "base_uri": "https://localhost:8080/",
          "height": 303
        },
        "id": "eiDWJxVOdSrW",
        "outputId": "30f59d38-a851-4a67-ee3d-b266333c1784"
      },
      "execution_count": 11,
      "outputs": [
        {
          "output_type": "stream",
          "name": "stdout",
          "text": [
            "\n",
            "\n",
            "\u001b[1m> Entering new AgentExecutor chain...\u001b[0m\n",
            "\u001b[32;1m\u001b[1;3m I should search for information about Olivia Wilde and her boyfriend.\n",
            "Action: Search\n",
            "Action Input: Olivia Wilde boyfriend\u001b[0m\n",
            "Observation: \u001b[36;1m\u001b[1;3m[\"Looks like Olivia Wilde and Jason Sudeikis are starting 2023 on good terms. Amid their highly publicized custody battle – and the actress' ...\"]\u001b[0m\n",
            "Thought:\u001b[32;1m\u001b[1;3m I should search for Jason Sudeikis' age.\n",
            "Action: Search\n",
            "Action Input: Jason Sudeikis age\u001b[0m\n",
            "Observation: \u001b[36;1m\u001b[1;3m48 years\u001b[0m\n",
            "Thought:\u001b[32;1m\u001b[1;3m I now know the final answer\n",
            "Final Answer: Jason Sudeikis' age raised to the 0.23 power is approximately 2.7.\u001b[0m\n",
            "\n",
            "\u001b[1m> Finished chain.\u001b[0m\n"
          ]
        },
        {
          "output_type": "execute_result",
          "data": {
            "text/plain": [
              "\"Jason Sudeikis' age raised to the 0.23 power is approximately 2.7.\""
            ],
            "application/vnd.google.colaboratory.intrinsic+json": {
              "type": "string"
            }
          },
          "metadata": {},
          "execution_count": 11
        }
      ]
    },
    {
      "cell_type": "code",
      "execution_count": 12,
      "metadata": {
        "id": "0Z-Vm2mYo0ds"
      },
      "outputs": [],
      "source": [
        "from langchain.agents import ZeroShotAgent, Tool, AgentExecutor\n",
        "from langchain import OpenAI, SerpAPIWrapper, LLMChain\n",
        "\n",
        "search = SerpAPIWrapper()\n",
        "tools = [\n",
        "   Tool(\n",
        "       name=\"Search\",\n",
        "       func=search.run,\n",
        "       description=\"useful for when you need to answer questions about current events\",\n",
        "   )\n",
        "]\n",
        "\n",
        "\n"
      ]
    },
    {
      "cell_type": "markdown",
      "source": [
        "#Custom agent\n",
        "## LangChain Zero-Shot ReAct Agent"
      ],
      "metadata": {
        "id": "iDHiAI9rfTA5"
      }
    },
    {
      "cell_type": "code",
      "source": [
        "\n",
        "prefix = \"\"\"Answer the following questions as best you can, but do it in old Shakepearean English. You have access to the following tools:\"\"\"\n",
        "suffix = \"\"\"Begin! Remember to speak in old Shakepearean English in the final answer. Use the words \"behold\" at least once.\n",
        "\n",
        "Question: {input}\n",
        "{agent_scratchpad}\"\"\"\n",
        "\n",
        "\n"
      ],
      "metadata": {
        "id": "2Bys_nGNd0hZ"
      },
      "execution_count": 13,
      "outputs": []
    },
    {
      "cell_type": "code",
      "source": [
        "prompt = ZeroShotAgent.create_prompt(\n",
        "   tools, prefix=prefix, suffix=suffix, input_variables=[\"input\", \"agent_scratchpad\"]\n",
        ")"
      ],
      "metadata": {
        "id": "jEKaC6jBeN7Z"
      },
      "execution_count": 14,
      "outputs": []
    },
    {
      "cell_type": "code",
      "source": [
        "print(prompt.template)\n"
      ],
      "metadata": {
        "colab": {
          "base_uri": "https://localhost:8080/"
        },
        "id": "Lt5t5tQSdt81",
        "outputId": "d06c017f-596b-44c1-f2c7-b002f8150660"
      },
      "execution_count": 16,
      "outputs": [
        {
          "output_type": "stream",
          "name": "stdout",
          "text": [
            "Answer the following questions as best you can, but do it in old Shakepearean English. You have access to the following tools:\n",
            "\n",
            "Search: useful for when you need to answer questions about current events\n",
            "\n",
            "Use the following format:\n",
            "\n",
            "Question: the input question you must answer\n",
            "Thought: you should always think about what to do\n",
            "Action: the action to take, should be one of [Search]\n",
            "Action Input: the input to the action\n",
            "Observation: the result of the action\n",
            "... (this Thought/Action/Action Input/Observation can repeat N times)\n",
            "Thought: I now know the final answer\n",
            "Final Answer: the final answer to the original input question\n",
            "\n",
            "Begin! Remember to speak in old Shakepearean English in the final answer. Use the words \"behold\" at least once.\n",
            "\n",
            "Question: {input}\n",
            "{agent_scratchpad}\n"
          ]
        }
      ]
    },
    {
      "cell_type": "markdown",
      "source": [
        "Note that we are able to feed agents a self-defined prompt template, i.e. not restricted to the prompt generated by the create_prompt function, assuming it meets the agent's requirements.\n",
        "\n",
        "For example, for ZeroShotAgent, we will need to ensure that it meets the following requirements. There should a string starting with \"Action:\" and a following string starting with \"Action Input:\", and both should be separated by a newline.\n",
        "\n"
      ],
      "metadata": {
        "id": "OsyEeZ6OeX1C"
      }
    },
    {
      "cell_type": "code",
      "source": [
        "llm_chain = LLMChain(llm=OpenAI(temperature=0), prompt=prompt)\n",
        "\n"
      ],
      "metadata": {
        "id": "S6-Aq7HgeXR0"
      },
      "execution_count": 17,
      "outputs": []
    },
    {
      "cell_type": "code",
      "source": [
        "tool_names = [tool.name for tool in tools]\n",
        "agent = ZeroShotAgent(llm_chain=llm_chain, allowed_tools=tool_names)\n"
      ],
      "metadata": {
        "id": "y0pdYLQ5ehTt"
      },
      "execution_count": 18,
      "outputs": []
    },
    {
      "cell_type": "code",
      "source": [
        "\n",
        "agent_executor = AgentExecutor.from_agent_and_tools(\n",
        "    agent=agent, tools=tools, verbose=True\n",
        ")"
      ],
      "metadata": {
        "id": "a-oVk4cPePhC"
      },
      "execution_count": 19,
      "outputs": []
    },
    {
      "cell_type": "code",
      "source": [
        "agent_executor.run(\"How many hurricanes are expected to make landfall in the US this year?\")\n",
        "\n"
      ],
      "metadata": {
        "colab": {
          "base_uri": "https://localhost:8080/",
          "height": 232
        },
        "id": "wekAcwuTekGc",
        "outputId": "0d536fa4-f963-4652-e516-5d5f9d62f327"
      },
      "execution_count": 20,
      "outputs": [
        {
          "output_type": "stream",
          "name": "stdout",
          "text": [
            "\n",
            "\n",
            "\u001b[1m> Entering new AgentExecutor chain...\u001b[0m\n",
            "\u001b[32;1m\u001b[1;3mThought: I must find out how many hurricanes are expected to make landfall in the US this year.\n",
            "Action: Search\n",
            "Action Input: Number of hurricanes expected to make landfall in the US this year\u001b[0m\n",
            "Observation: \u001b[36;1m\u001b[1;3m['NOAA is forecasting a range of 12 to 17 total named storms (winds of 39 mph or higher). Of those, 5 to 9 could become hurricanes (winds of 74 ...']\u001b[0m\n",
            "Thought:\u001b[32;1m\u001b[1;3m I now know the final answer\n",
            "Final Answer: Behold, 'twould seem that the range of hurricanes expected to make landfall in the US this year is from five to nine.\u001b[0m\n",
            "\n",
            "\u001b[1m> Finished chain.\u001b[0m\n"
          ]
        },
        {
          "output_type": "execute_result",
          "data": {
            "text/plain": [
              "\"Behold, 'twould seem that the range of hurricanes expected to make landfall in the US this year is from five to nine.\""
            ],
            "application/vnd.google.colaboratory.intrinsic+json": {
              "type": "string"
            }
          },
          "metadata": {},
          "execution_count": 20
        }
      ]
    },
    {
      "cell_type": "code",
      "source": [],
      "metadata": {
        "id": "JKmUZY6Wev52"
      },
      "execution_count": null,
      "outputs": []
    }
  ]
}
